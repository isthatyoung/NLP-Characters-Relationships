{
 "cells": [
  {
   "cell_type": "code",
   "execution_count": 5,
   "metadata": {},
   "outputs": [],
   "source": [
    "# Version 1: only record full name\n",
    "dir = './Characters_directory/'\n",
    "with open(dir+'Character_Names.txt', 'r') as f:\n",
    "    data = f.readlines()\n",
    "    \n",
    "    character_names_full = []\n",
    "    for line in data:\n",
    "        character_names_full.append(line.strip('\\n'))"
   ]
  },
  {
   "cell_type": "code",
   "execution_count": 5,
   "metadata": {},
   "outputs": [
    {
     "name": "stdout",
     "output_type": "stream",
     "text": [
      "['Godric Gryffindor', 'Salazar Slytherin', 'Rowena Ravenclaw']\n\n\n147\n"
     ]
    }
   ],
   "source": [
    "print(character_names_full[:3])\n",
    "print('\\n')\n",
    "print(len(character_names_full))"
   ]
  },
  {
   "cell_type": "code",
   "execution_count": 7,
   "metadata": {},
   "outputs": [],
   "source": [
    "# Version 2: record first name and last name separately\n",
    "with open(dir+'Character_Names.txt', 'r') as f:\n",
    "    data = f.readlines()\n",
    "    \n",
    "    character_names_seperate = []\n",
    "    for line in data:\n",
    "        names = line.split()\n",
    "        for name in names:\n",
    "            character_names_seperate.append(name)"
   ]
  },
  {
   "cell_type": "code",
   "execution_count": 14,
   "metadata": {},
   "outputs": [
    {
     "name": "stdout",
     "output_type": "stream",
     "text": [
      "['Godric', 'Gryffindor', 'Salazar']\n",
      "\n",
      "\n",
      "293\n"
     ]
    }
   ],
   "source": [
    "print(character_names_seperate[:3])\n",
    "print('\\n')\n",
    "print(len(character_names_seperate))"
   ]
  },
  {
   "cell_type": "code",
   "execution_count": 15,
   "metadata": {},
   "outputs": [
    {
     "name": "stdout",
     "output_type": "stream",
     "text": [
      "True\n"
     ]
    }
   ],
   "source": [
    "for i in character_names_seperate:\n",
    "    if i == 'Harry':\n",
    "        print(True)"
   ]
  },
  {
   "cell_type": "code",
   "execution_count": null,
   "metadata": {},
   "outputs": [],
   "source": []
  }
 ],
 "metadata": {
  "kernelspec": {
   "display_name": "Python 3",
   "language": "python",
   "name": "python3"
  },
  "language_info": {
   "codemirror_mode": {
    "name": "ipython",
    "version": 3
   },
   "file_extension": ".py",
   "mimetype": "text/x-python",
   "name": "python",
   "nbconvert_exporter": "python",
   "pygments_lexer": "ipython3",
   "version": "3.6.5"
  }
 },
 "nbformat": 4,
 "nbformat_minor": 2
}
